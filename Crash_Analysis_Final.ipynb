{
 "cells": [
  {
   "cell_type": "code",
   "execution_count": 4,
   "metadata": {},
   "outputs": [
    {
     "name": "stdout",
     "output_type": "stream",
     "text": [
      "Imports are ok!\n"
     ]
    }
   ],
   "source": [
    "import numpy as np\n",
    "import pandas as pd\n",
    "import matplotlib.pyplot as plt\n",
    "from sklearn.decomposition import NMF\n",
    "from itertools import permutations\n",
    "from sklearn.feature_extraction.text import CountVectorizer\n",
    "from sklearn import metrics\n",
    "\n",
    "print(\"Imports are ok!\")"
   ]
  },
  {
   "cell_type": "markdown",
   "metadata": {},
   "source": [
    "The Data:\n",
    "The crash data I am using is from the Colorado DOT and can be downloaded here: https://www.codot.gov/safety/traffic-safety/data-analysis/crash-data\n",
    "\n",
    "I specifically am using the 2022 data because it was the last year that alcohol and drug use was included in the dataset and I suspect that will be a large factor in whether or not the crash results in a serious injury."
   ]
  },
  {
   "cell_type": "code",
   "execution_count": 16,
   "metadata": {},
   "outputs": [
    {
     "name": "stdout",
     "output_type": "stream",
     "text": [
      "Index(['CUID', 'System Code', 'Rd_Number', 'Rd_Section', 'City_Street',\n",
      "       'Crash Date', 'Crash Time', 'Agency Id', 'City', 'County', 'Latitude',\n",
      "       'Longitude', 'Location 1', 'Link', 'Location 2', 'Location',\n",
      "       'Road Description', 'First HE', 'Second HE', 'Third HE', 'Fourth HE',\n",
      "       'MHE', 'Crash Type', 'Wild Animal', 'Number Killed', 'Number Injured',\n",
      "       'Injury 00', 'Injury 01', 'Injury 02', 'Injury 03', 'Injury 04',\n",
      "       'Total Vehicles', 'Secondary Crash', 'Construction Zone', 'School Zone',\n",
      "       'Road Contour Curves', 'Road Contour Grade', 'Road Condition',\n",
      "       'Lighting Conditions', 'Weather Condition', 'Lane Position',\n",
      "       'TU-1 Direction', 'TU-2 Direction', 'TU-1 Movement', 'TU-2 Movement',\n",
      "       'TU-1 Type', 'TU-2 Type', 'TU-1 Hit And Run', 'TU-2 Hit And Run',\n",
      "       'TU-1 Driver Action', 'TU-2 Driver Action',\n",
      "       'TU-1 Human Contributing Factor', 'TU-2 Human Contributing Factor',\n",
      "       'TU-1 Age', 'TU-2 Age', 'TU-1 Sex ', 'TU-2 Sex',\n",
      "       'TU-1 Alcohol Suspected', 'TU-2 Alcohol Suspected',\n",
      "       'TU-1 Marijuana Suspected', 'TU-2 Marijuana Suspected',\n",
      "       'TU-1 Other Drugs Suspected ', 'TU-2 Other Drugs Suspected ',\n",
      "       'TU-1 NM Location ', 'TU-2 NM Location ', 'TU-1 NM Type',\n",
      "       'TU-2 NM Type', 'TU-1 NM Age ', 'TU-2 NM Age ', 'TU-1 NM Sex ',\n",
      "       'TU-2 NM Sex ', 'TU-1 NM Action ', 'TU-2 NM Action ',\n",
      "       'TU-1 NM Human Contributing Factor ',\n",
      "       'TU-2 NM Human Contributing Factor ', 'TU-1 NM Alcohol Suspected ',\n",
      "       'TU-2 NM Alcohol Suspected ', 'TU-1 NM Marijuana Suspected ',\n",
      "       'TU-2 NM Marijuana Suspected ', 'TU-1 NM Other Drugs Suspected ',\n",
      "       'TU-2 NM Other Drugs Suspected '],\n",
      "      dtype='object')\n",
      "Data is ok!\n"
     ]
    }
   ],
   "source": [
    "df = pd.read_excel(\"CDOTRM_CD_Crash_Listing_-_2022.xlsx\", na_filter=False)\n",
    "\n",
    "print(df.columns)\n",
    "print(\"Data is ok!\")"
   ]
  },
  {
   "cell_type": "markdown",
   "metadata": {},
   "source": [
    "Get data ready to be used by an unsupervised algorithm. I plan on using a NMF model because I think it will do a good job handling the large number of features that the crash data contains."
   ]
  },
  {
   "cell_type": "code",
   "execution_count": 19,
   "metadata": {},
   "outputs": [
    {
     "name": "stdout",
     "output_type": "stream",
     "text": [
      "   center  crossed  intersection  into  island  lanes  left  median  off  on  \\\n",
      "0       0        0             0     0       0      0     0       0    0   1   \n",
      "1       0        0             0     0       0      0     0       0    1   0   \n",
      "2       1        0             0     0       1      0     0       1    0   0   \n",
      "3       1        0             0     0       1      0     0       1    0   0   \n",
      "4       0        0             0     0       0      0     0       0    0   1   \n",
      "\n",
      "   opposing  private  property  ran  right  roadway  side  vehicle  \n",
      "0         0        0         0    0      0        1     0        0  \n",
      "1         0        0         0    1      1        0     1        0  \n",
      "2         0        0         0    0      0        0     0        0  \n",
      "3         0        0         0    0      0        0     0        0  \n",
      "4         0        0         0    0      0        1     0        0  \n",
      "95363\n"
     ]
    }
   ],
   "source": [
    "#make a df from just the columns we want that have each been bagged \n",
    "#we will create multiple bags of the columns that I suspect will be telling for the survivability of the accident and then combine them into one dratframe for the NMF model\n",
    "#convert the words to numerical values using the bag of words concept and a vectorizer from sklearn (code for this taken from my homwork 4)\n",
    "locationVect = CountVectorizer()\n",
    "locBag = locationVect.fit_transform(df.Location)\n",
    "locFeatures = locationVect.get_feature_names_out()\n",
    "locDf = pd.DataFrame(locBag.toarray(), columns=locFeatures)\n",
    "print(locDf.head())\n",
    "print(len(locDf.index))\n"
   ]
  },
  {
   "cell_type": "code",
   "execution_count": 20,
   "metadata": {},
   "outputs": [
    {
     "name": "stdout",
     "output_type": "stream",
     "text": [
      "   dry  foreign  gravel  icy  material  milled  muddy  road  roto  sand  \\\n",
      "0    0        0       0    0         0       0      0     0     0     0   \n",
      "1    0        0       0    0         0       0      0     0     0     0   \n",
      "2    1        0       0    0         0       0      0     0     0     0   \n",
      "3    0        0       0    0         0       0      0     0     0     0   \n",
      "4    0        0       0    0         0       0      0     0     0     0   \n",
      "\n",
      "   slushy  snowy  treatment  visible  wet  \n",
      "0       0      1          0        0    0  \n",
      "1       0      1          0        0    0  \n",
      "2       0      0          0        0    0  \n",
      "3       0      1          0        0    0  \n",
      "4       0      1          0        0    0  \n",
      "95363\n"
     ]
    }
   ],
   "source": [
    "condVect = CountVectorizer()\n",
    "condBag = condVect.fit_transform(df[\"Road Condition\"])\n",
    "condFeatures = condVect.get_feature_names_out()\n",
    "condDf = pd.DataFrame(condBag.toarray(), columns=condFeatures)\n",
    "print(condDf.head())\n",
    "print(len(condDf.index))"
   ]
  },
  {
   "cell_type": "code",
   "execution_count": 21,
   "metadata": {},
   "outputs": [
    {
     "name": "stdout",
     "output_type": "stream",
     "text": [
      "   001  10  16  all  atv  autocycle  bus  buses  car  commerce  ...  transit  \\\n",
      "0    0   0   0    0    0          0    0      0    0         0  ...        0   \n",
      "1    0   0   0    0    0          0    0      0    0         0  ...        0   \n",
      "2    0   0   0    0    0          0    0      0    0         0  ...        0   \n",
      "3    0   0   0    0    0          0    0      0    0         0  ...        0   \n",
      "4    0   0   0    0    0          0    0      0    1         0  ...        0   \n",
      "\n",
      "   truck  trucks  type  unknown  utility  van  vehicle  with  working  \n",
      "0      0       0     0        1        0    0        0     0        0  \n",
      "1      0       0     0        0        0    0        0     0        0  \n",
      "2      0       0     0        1        0    0        0     0        0  \n",
      "3      0       0     0        1        0    0        0     0        0  \n",
      "4      0       0     0        0        0    1        0     0        0  \n",
      "\n",
      "[5 rows x 53 columns]\n",
      "95363\n"
     ]
    }
   ],
   "source": [
    "carVect = CountVectorizer()\n",
    "carBag = carVect.fit_transform(df[\"TU-1 Type\"])\n",
    "carFeatures = carVect.get_feature_names_out()\n",
    "carDf = pd.DataFrame(carBag.toarray(), columns=carFeatures)\n",
    "print(carDf.head())\n",
    "print(len(carDf.index))"
   ]
  },
  {
   "cell_type": "code",
   "execution_count": 22,
   "metadata": {},
   "outputs": [
    {
     "name": "stdout",
     "output_type": "stream",
     "text": [
      "   breath  method  no  observed  other  preliminary  sfst  test  unknown  yes\n",
      "0       0       0   0         0      0            0     0     0        0    0\n",
      "1       0       1   0         0      1            0     0     0        0    1\n",
      "2       0       0   0         0      0            0     0     0        0    0\n",
      "3       0       0   0         0      0            0     0     0        0    0\n",
      "4       0       0   1         1      0            0     0     0        0    0\n",
      "95363\n"
     ]
    }
   ],
   "source": [
    "alcVect = CountVectorizer()\n",
    "alcBag = alcVect.fit_transform(df[\"TU-1 Alcohol Suspected\"])\n",
    "alcFeatures = alcVect.get_feature_names_out()\n",
    "alcDf = pd.DataFrame(alcBag.toarray(), columns=alcFeatures)\n",
    "print(alcDf.head())\n",
    "print(len(alcDf.index))"
   ]
  },
  {
   "cell_type": "code",
   "execution_count": 18,
   "metadata": {},
   "outputs": [
    {
     "name": "stdout",
     "output_type": "stream",
     "text": [
      "   marijuana  not  suspected  unknown\n",
      "0          0    0          0        0\n",
      "1          1    1          1        0\n",
      "2          0    0          0        0\n",
      "3          0    0          0        0\n",
      "4          1    1          1        0\n",
      "95363\n"
     ]
    }
   ],
   "source": [
    "marVect = CountVectorizer()\n",
    "marBag = marVect.fit_transform(df[\"TU-1 Marijuana Suspected\"])\n",
    "marFeatures = marVect.get_feature_names_out()\n",
    "marDf = pd.DataFrame(marBag.toarray(), columns=marFeatures)\n",
    "print(marDf.head())\n",
    "print(len(marDf.index))"
   ]
  },
  {
   "cell_type": "code",
   "execution_count": 25,
   "metadata": {},
   "outputs": [
    {
     "name": "stdout",
     "output_type": "stream",
     "text": [
      "Train Length:  76290\n",
      "Test Length:  19073\n"
     ]
    }
   ],
   "source": [
    "#combine all bags into one \n",
    "bag = pd.concat([locDf, condDf, carDf, alcDf, marDf], axis=1)\n",
    "\n",
    "#create train test split\n",
    "Xlen = int(len(bag.index) * .8)\n",
    "\n",
    "X = bag[0:Xlen].copy()\n",
    "y = bag[Xlen:].copy()\n",
    "\n",
    "print(\"Train Length: \",len(X.index))\n",
    "print(\"Test Length: \",len(y.index))"
   ]
  },
  {
   "cell_type": "markdown",
   "metadata": {},
   "source": [
    "Machine Learning Question: Predict whether or not a car crash will have serious injuries \n",
    "\n",
    "This prediction could allow for triage of calls in busy cities in circumstances where calls outnumber the available EMTs that can respond\n",
    "\n",
    "For this data set we will consider serious injuries to be values in the Injury03 (suspected major injury) and the Injury04 (suspected fatality) fields."
   ]
  },
  {
   "cell_type": "code",
   "execution_count": 26,
   "metadata": {},
   "outputs": [],
   "source": [
    "#train the model\n",
    "#2 components because we are trying to predict lethal and not lethal crashes\n",
    "model_nmf = NMF(n_components=2, init='nndsvd', beta_loss='frobenius', solver='cd', max_iter=200).fit(X)"
   ]
  },
  {
   "cell_type": "code",
   "execution_count": 33,
   "metadata": {},
   "outputs": [
    {
     "name": "stdout",
     "output_type": "stream",
     "text": [
      "[0 0 1 ... 1 0 0]\n",
      "[0 0 0 ... 1 0 1]\n"
     ]
    }
   ],
   "source": [
    "#get predictions from the model for the test and training set \n",
    "y_pred_raw = model_nmf.transform(y)\n",
    "X_pred_raw = model_nmf.transform(X)\n",
    "\n",
    "#combine the arrays into actual predictions about the category\n",
    "y_pred = np.argmax(y_pred_raw, axis=1)\n",
    "X_pred = np.argmax(X_pred_raw, axis=1)\n",
    "\n",
    "print(y_pred)\n",
    "print(X_pred)\n"
   ]
  },
  {
   "cell_type": "code",
   "execution_count": 31,
   "metadata": {},
   "outputs": [
    {
     "name": "stdout",
     "output_type": "stream",
     "text": [
      "0    0\n",
      "1    0\n",
      "2    0\n",
      "3    0\n",
      "4    0\n",
      "Name: MajorInjury, dtype: int64\n",
      "95363\n"
     ]
    }
   ],
   "source": [
    "#filter to only accidents where there was an injury\n",
    "def MajorInjury(row):\n",
    "    if(int(row[\"Injury 03\"]) >= 1 or int(row[\"Injury 04\"]) >= 1):\n",
    "        return(1)\n",
    "    else:\n",
    "        return(0)\n",
    "df[\"MajorInjury\"] = df.apply(MajorInjury, axis=1)\n",
    "\n",
    "print(df[\"MajorInjury\"].head())\n",
    "print(len(df[\"MajorInjury\"].index))"
   ]
  },
  {
   "cell_type": "code",
   "execution_count": 38,
   "metadata": {},
   "outputs": [
    {
     "name": "stdout",
     "output_type": "stream",
     "text": [
      "For the training set\n",
      "Pos0 had higher accuracy\n",
      "Accuracy:  0.5721981911128589\n",
      "For the test set\n",
      "Pos0 had higher accuracy\n",
      "Accuracy:  0.5798248833429456\n"
     ]
    }
   ],
   "source": [
    "#test accuracy of the predictions\n",
    "#for this data set we want to tell the difference\n",
    "\n",
    "majorInjury = df[\"MajorInjury\"].tolist()\n",
    "\n",
    "#test against the training set and test set \n",
    "#keep track of pos0 and pos1 correct values because we have to test both permutations of the predictions\n",
    "trainPos0 = 0\n",
    "trainPos1 = 0\n",
    "testPos0 = 0\n",
    "testPos1 = 0\n",
    "\n",
    "#this is just to keep the indexing right as we measure accuracy\n",
    "y_pred = X_pred.tolist() + y_pred.tolist()\n",
    "\n",
    "for i in range(len(df.index)):\n",
    "    if(i < Xlen):\n",
    "        if(majorInjury[i] == X_pred[i]):\n",
    "            trainPos0 += 1\n",
    "        elif(majorInjury[i] != X_pred[i]):\n",
    "            trainPos1 += 1\n",
    "    else:\n",
    "        if(majorInjury[i] == y_pred[i]):\n",
    "            testPos0 += 1\n",
    "        elif(majorInjury[i] != y_pred[i]):\n",
    "            testPos1 += 1\n",
    "\n",
    "\n",
    "print(\"For the training set\")\n",
    "if(trainPos0 > trainPos1):\n",
    "    print(\"Pos0 had higher accuracy\")\n",
    "    print(\"Accuracy: \",trainPos0/Xlen)\n",
    "else:\n",
    "    print(\"Pos1 had higher accuracy\")\n",
    "    print(\"Accuracy: \",trainPos1/Xlen)\n",
    "\n",
    "\n",
    "print(\"For the test set\")\n",
    "if(trainPos0 > trainPos1):\n",
    "    print(\"Pos0 had higher accuracy\")\n",
    "    print(\"Accuracy: \",testPos0/((len(df.index)-Xlen)))\n",
    "else:\n",
    "    print(\"Pos1 had higher accuracy\")\n",
    "    print(\"Accuracy: \",testPos1/((len(df.index)-Xlen)))\n",
    "    "
   ]
  },
  {
   "cell_type": "markdown",
   "metadata": {},
   "source": [
    "Conclusion:\n",
    "\n",
    "The NMF model can predict whether a given crash will have a serious injury with about a 58% accuracy based off of the location of the crash, the road condition, the car being driven, and whether the driver was under the influence of aclohol or marajuana. \n",
    "\n",
    "I did expect it to be better at predicting but I guess the factors that I chose were not as impactful on their own as I previously though they would be. Going forward I think trying different models and perhaps using a combination of supervised and unsupervised methods may lead to better results."
   ]
  }
 ],
 "metadata": {
  "kernelspec": {
   "display_name": "Python 3 (ipykernel)",
   "language": "python",
   "name": "python3"
  },
  "language_info": {
   "codemirror_mode": {
    "name": "ipython",
    "version": 3
   },
   "file_extension": ".py",
   "mimetype": "text/x-python",
   "name": "python",
   "nbconvert_exporter": "python",
   "pygments_lexer": "ipython3",
   "version": "3.12.4"
  }
 },
 "nbformat": 4,
 "nbformat_minor": 4
}
